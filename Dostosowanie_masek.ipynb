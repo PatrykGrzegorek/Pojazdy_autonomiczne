{
 "cells": [
  {
   "cell_type": "code",
   "execution_count": 16,
   "id": "7f27f5ba",
   "metadata": {},
   "outputs": [],
   "source": [
    "import cv2\n",
    "import os\n",
    "import numpy as np"
   ]
  },
  {
   "cell_type": "code",
   "execution_count": 3,
   "id": "fe6f5aae",
   "metadata": {},
   "outputs": [
    {
     "name": "stdout",
     "output_type": "stream",
     "text": [
      "Kolor piksela (700, 500): (235, 122, 27)\n"
     ]
    }
   ],
   "source": [
    "img = cv2.imread(\"test.png\")\n",
    "\n",
    "x = 700 # współrzędna x piksela\n",
    "y = 500 # współrzędna y piksela\n",
    "\n",
    "# odczytanie wartości kanałów koloru\n",
    "b, g, r = img[y, x]\n",
    "\n",
    "print(\"Kolor piksela ({}, {}): ({}, {}, {})\".format(x, y, b, g, r))"
   ]
  },
  {
   "cell_type": "code",
   "execution_count": 27,
   "id": "1fa6b595",
   "metadata": {},
   "outputs": [
    {
     "data": {
      "text/plain": [
       "255"
      ]
     },
     "execution_count": 27,
     "metadata": {},
     "output_type": "execute_result"
    }
   ],
   "source": [
    "img = cv2.imread(\"test.png\")\n",
    "\n",
    "x = 683 # współrzędna x piksela\n",
    "y = 481 # współrzędna y piksela\n",
    "\n",
    "# tworzenie maski pikseli o określonym kolorze\n",
    "lower_color = np.array([235, 122, 27])\n",
    "upper_color = np.array([235, 122, 27])\n",
    "img = cv2.inRange(img, lower_color, upper_color)\n",
    "\n",
    "# zapisanie zmodyfikowanego obrazka\n",
    "cv2.imwrite(\"zmieniony_obrazek.png\", img)\n",
    "img[y,x]"
   ]
  },
  {
   "cell_type": "code",
   "execution_count": 23,
   "id": "86a42156",
   "metadata": {},
   "outputs": [],
   "source": [
    "input_folder = \"CAT/mixed/test/masks/\"\n",
    "output_folder = \"mixed/test/mask/\"\n",
    "\n",
    "if not os.path.exists(output_folder):\n",
    "    os.makedirs(output_folder)\n",
    "\n",
    "for filename in os.listdir(input_folder):\n",
    "    if filename.endswith(\".jpg\") or filename.endswith(\".png\"):\n",
    "        # wczytanie obrazka\n",
    "        img = cv2.imread(os.path.join(input_folder, filename))\n",
    "        \n",
    "        # konwersja kolorów\n",
    "        lower_color = np.array([235, 122, 27])\n",
    "        upper_color = np.array([235, 122, 27])\n",
    "        img = cv2.inRange(img, lower_color, upper_color)\n",
    "        \n",
    "        # zapisanie obrazka\n",
    "        cv2.imwrite(os.path.join(output_folder, filename), img)"
   ]
  },
  {
   "cell_type": "code",
   "execution_count": 24,
   "id": "357b4f5b",
   "metadata": {},
   "outputs": [],
   "source": [
    "input_folder = \"CAT/mixed/train/masks/\"\n",
    "output_folder = \"mixed/train/mask/\"\n",
    "\n",
    "if not os.path.exists(output_folder):\n",
    "    os.makedirs(output_folder)\n",
    "\n",
    "for filename in os.listdir(input_folder):\n",
    "    if filename.endswith(\".jpg\") or filename.endswith(\".png\"):\n",
    "        # wczytanie obrazka\n",
    "        img = cv2.imread(os.path.join(input_folder, filename))\n",
    "        \n",
    "        # konwersja kolorów\n",
    "        lower_color = np.array([235, 122, 27])\n",
    "        upper_color = np.array([235, 122, 27])\n",
    "        img = cv2.inRange(img, lower_color, upper_color)\n",
    "        \n",
    "        # zapisanie obrazka\n",
    "        cv2.imwrite(os.path.join(output_folder, filename), img)"
   ]
  },
  {
   "cell_type": "code",
   "execution_count": null,
   "id": "bdfa6560",
   "metadata": {},
   "outputs": [],
   "source": []
  }
 ],
 "metadata": {
  "kernelspec": {
   "display_name": "Python 3 (ipykernel)",
   "language": "python",
   "name": "python3"
  },
  "language_info": {
   "codemirror_mode": {
    "name": "ipython",
    "version": 3
   },
   "file_extension": ".py",
   "mimetype": "text/x-python",
   "name": "python",
   "nbconvert_exporter": "python",
   "pygments_lexer": "ipython3",
   "version": "3.10.9"
  }
 },
 "nbformat": 4,
 "nbformat_minor": 5
}
