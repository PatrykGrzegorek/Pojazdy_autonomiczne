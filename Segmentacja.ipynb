{
 "cells": [
  {
   "cell_type": "code",
   "execution_count": 1,
   "id": "c3b90a66",
   "metadata": {},
   "outputs": [],
   "source": [
    "import os\n",
    "import tensorflow as tf\n",
    "import json\n",
    "from PIL import Image, ImageDraw\n",
    "import numpy as np\n",
    "import cv2"
   ]
  },
  {
   "cell_type": "code",
   "execution_count": 7,
   "id": "bef38d81",
   "metadata": {},
   "outputs": [],
   "source": [
    "# definiowanie wymiarów obrazków treningowych\n",
    "IMG_HEIGHT = 256\n",
    "IMG_WIDTH = 256"
   ]
  },
  {
   "cell_type": "code",
   "execution_count": 12,
   "id": "f6266314",
   "metadata": {},
   "outputs": [],
   "source": [
    "# funkcja do wczytywania i przetwarzania obrazów i masek\n",
    "def load_images_and_masks(image_file_names, mask_file_names, resize=None):\n",
    "    images = []\n",
    "    masks = []\n",
    "    # wczytywanie obrazów i masek\n",
    "    for image_file_name, mask_file_name in zip(image_file_names, mask_file_names):\n",
    "        img = cv2.imread(image_file_name, cv2.IMREAD_COLOR)\n",
    "        mask = cv2.imread(mask_file_name, cv2.IMREAD_GRAYSCALE)\n",
    "        # sprawdzenie, czy obraz i maska mają takie same wymiary\n",
    "        assert img.shape[:2] == mask.shape[:2], f\"Nieprawidłowe wymiary obrazu lub maski: {image_file_name}, {mask_file_name}\"\n",
    "        images.append(img)\n",
    "        masks.append(mask)\n",
    "    # zmiana rozmiaru obrazów i masek (opcjonalne)\n",
    "    if resize is not None:\n",
    "        images = [cv2.resize(img, resize) for img in images]\n",
    "        masks = [cv2.resize(mask, resize) for mask in masks]\n",
    "    # normalizacja obrazów i masek\n",
    "    images = np.array(images, dtype=np.float32) / 255.\n",
    "    masks = np.array(masks, dtype=np.float32) / 255.\n",
    "    # dodanie trzeciego wymiaru dla kanałów kolorów\n",
    "    images = np.expand_dims(images, axis=-1)\n",
    "    masks = np.expand_dims(masks, axis=-1)\n",
    "    return images, masks"
   ]
  },
  {
   "cell_type": "code",
   "execution_count": 13,
   "id": "1f618829",
   "metadata": {},
   "outputs": [],
   "source": [
    "IMAGE_FOLDER_PATH = 'mixed/train/img/'\n",
    "MASKS_FOLDER_PATH = 'mixed/train/mask/'\n",
    "IMAGE_FOLDER_PATH_TEST = 'mixed/test/img/'\n",
    "MASKS_FOLDER_PATH_TEST = 'mixed/test/mask/'\n",
    "\n",
    "# funkcja do tworzenia listy nazw plików z obrazami i odpowiadającymi im maskami\n",
    "def create_file_lists(image_folder_path, mask_folder_path):\n",
    "    image_files = sorted(os.listdir(image_folder_path))\n",
    "    mask_files = sorted(os.listdir(mask_folder_path))\n",
    "    # upewnienie się, że listy mają tę samą liczbę plików\n",
    "    assert len(image_files) == len(mask_files), \"Nieprawidłowa liczba plików\"\n",
    "    # dodanie pełnych ścieżek do plików\n",
    "    image_files = [os.path.join(image_folder_path, file_name) for file_name in image_files]\n",
    "    mask_files = [os.path.join(mask_folder_path, file_name) for file_name in mask_files]\n",
    "    return image_files, mask_files\n",
    "\n",
    "# utworzenie list nazw plików dla danych treningowych i testowych\n",
    "train_image_files, train_mask_files = create_file_lists(IMAGE_FOLDER_PATH, MASKS_FOLDER_PATH)\n",
    "test_image_files, test_mask_files = create_file_lists(IMAGE_FOLDER_PATH_TEST, MASKS_FOLDER_PATH_TEST)\n",
    "\n",
    "# wczytanie danych treningowych i testowych\n",
    "x_train, y_train = load_images_and_masks(train_image_files, train_mask_files, resize=(256, 256))\n",
    "x_test, y_test = load_images_and_masks(test_image_files, test_mask_files, resize=(256, 256))"
   ]
  },
  {
   "cell_type": "code",
   "execution_count": 14,
   "id": "fe70fdb9",
   "metadata": {},
   "outputs": [],
   "source": [
    "def unet_small():\n",
    "    # Encoder\n",
    "    inputs = tf.keras.layers.Input(shape=(256, 256, 3))\n",
    "    conv1 = tf.keras.layers.Conv2D(32, (3, 3), activation='relu', padding='same')(inputs)\n",
    "    pool1 = tf.keras.layers.MaxPooling2D((2, 2))(conv1)\n",
    "    conv2 = tf.keras.layers.Conv2D(64, (3, 3), activation='relu', padding='same')(pool1)\n",
    "    pool2 = tf.keras.layers.MaxPooling2D((2, 2))(conv2)\n",
    "\n",
    "    # Bottleneck\n",
    "    conv3 = tf.keras.layers.Conv2D(128, (3, 3), activation='relu', padding='same')(pool2)\n",
    "    up1 = tf.keras.layers.UpSampling2D((2, 2))(conv3)\n",
    "\n",
    "    # Decoder\n",
    "    concat1 = tf.keras.layers.Concatenate()([conv2, up1])\n",
    "    conv4 = tf.keras.layers.Conv2D(32, (3, 3), activation='relu', padding='same')(concat1)\n",
    "    up2 = tf.keras.layers.UpSampling2D((2, 2))(conv4)\n",
    "    concat2 = tf.keras.layers.Concatenate()([conv1, up2])\n",
    "    outputs = tf.keras.layers.Conv2D(1, (1, 1), activation='sigmoid')(concat2)\n",
    "\n",
    "    model = tf.keras.models.Model(inputs=inputs, outputs=outputs)\n",
    "\n",
    "    return model"
   ]
  },
  {
   "cell_type": "code",
   "execution_count": 15,
   "id": "a974d6ec",
   "metadata": {},
   "outputs": [],
   "source": [
    "model_small = unet_small()"
   ]
  },
  {
   "cell_type": "code",
   "execution_count": 16,
   "id": "4cf856b6",
   "metadata": {},
   "outputs": [],
   "source": [
    "model_small.compile(optimizer='adam', loss='binary_crossentropy', metrics=['accuracy'])"
   ]
  },
  {
   "cell_type": "code",
   "execution_count": 17,
   "id": "d8292fd6",
   "metadata": {},
   "outputs": [
    {
     "name": "stdout",
     "output_type": "stream",
     "text": [
      "Epoch 1/12\n",
      "317/317 [==============================] - 84s 264ms/step - loss: 0.5436 - accuracy: 0.7276 - val_loss: 0.4585 - val_accuracy: 0.7754\n",
      "Epoch 2/12\n",
      "317/317 [==============================] - 81s 254ms/step - loss: 0.4819 - accuracy: 0.7504 - val_loss: 0.4349 - val_accuracy: 0.7683\n",
      "Epoch 3/12\n",
      "317/317 [==============================] - 87s 274ms/step - loss: 0.4155 - accuracy: 0.7951 - val_loss: 0.3656 - val_accuracy: 0.8241\n",
      "Epoch 4/12\n",
      "317/317 [==============================] - 87s 274ms/step - loss: 0.4028 - accuracy: 0.8008 - val_loss: 0.3591 - val_accuracy: 0.8290\n",
      "Epoch 5/12\n",
      "317/317 [==============================] - 89s 279ms/step - loss: 0.3760 - accuracy: 0.8177 - val_loss: 0.3736 - val_accuracy: 0.8073\n",
      "Epoch 6/12\n",
      "317/317 [==============================] - 83s 261ms/step - loss: 0.3619 - accuracy: 0.8260 - val_loss: 0.4201 - val_accuracy: 0.7861\n",
      "Epoch 7/12\n",
      "317/317 [==============================] - 85s 267ms/step - loss: 0.3610 - accuracy: 0.8269 - val_loss: 0.3727 - val_accuracy: 0.8223\n",
      "Epoch 8/12\n",
      "317/317 [==============================] - 85s 269ms/step - loss: 0.3521 - accuracy: 0.8313 - val_loss: 0.3610 - val_accuracy: 0.8183\n",
      "Epoch 9/12\n",
      "317/317 [==============================] - 85s 269ms/step - loss: 0.3487 - accuracy: 0.8327 - val_loss: 0.3304 - val_accuracy: 0.8452\n",
      "Epoch 10/12\n",
      "317/317 [==============================] - 83s 260ms/step - loss: 0.3430 - accuracy: 0.8365 - val_loss: 0.3322 - val_accuracy: 0.8391\n",
      "Epoch 11/12\n",
      "317/317 [==============================] - 88s 279ms/step - loss: 0.3377 - accuracy: 0.8399 - val_loss: 0.3391 - val_accuracy: 0.8335\n",
      "Epoch 12/12\n",
      "317/317 [==============================] - 87s 274ms/step - loss: 0.3289 - accuracy: 0.8446 - val_loss: 0.3159 - val_accuracy: 0.8509\n"
     ]
    },
    {
     "data": {
      "text/plain": [
       "<keras.callbacks.History at 0x28e011c3ac0>"
      ]
     },
     "execution_count": 17,
     "metadata": {},
     "output_type": "execute_result"
    }
   ],
   "source": [
    "model_small.fit(x_train, y_train, epochs=12, batch_size=4, validation_data=(x_test, y_test))"
   ]
  },
  {
   "cell_type": "code",
   "execution_count": 18,
   "id": "71181d6a",
   "metadata": {},
   "outputs": [],
   "source": [
    "model_small.save_weights('unet_small_weights.h5')"
   ]
  },
  {
   "cell_type": "code",
   "execution_count": 19,
   "id": "5e0bfa2b",
   "metadata": {},
   "outputs": [],
   "source": [
    "model_small = unet_small()\n",
    "model_small.load_weights('unet_small_weights.h5')"
   ]
  },
  {
   "cell_type": "code",
   "execution_count": 21,
   "id": "c521c596",
   "metadata": {},
   "outputs": [
    {
     "name": "stdout",
     "output_type": "stream",
     "text": [
      "1/1 [==============================] - 0s 25ms/step\n"
     ]
    }
   ],
   "source": [
    "# Wczytaj zdjęcie i przeskaluj\n",
    "img = cv2.imread('test1.png')\n",
    "img = cv2.resize(img, (256, 256))\n",
    "\n",
    "# Przekonwertuj zdjęcie na tensor\n",
    "img_tensor = np.expand_dims(img, axis=0)\n",
    "\n",
    "# Prześlij tensor przez sieć\n",
    "mask_tensor = model_small.predict(img_tensor)\n",
    "\n",
    "# Przekonwertuj maskę na obraz RGB\n",
    "mask = np.squeeze(mask_tensor)\n",
    "mask = np.where(mask > 0.5, 255, 0).astype('uint8')\n",
    "\n",
    "# Wyświetl oryginalne zdjęcie i maskę\n",
    "cv2.imshow('Image', img)\n",
    "cv2.imshow('Mask', mask)\n",
    "cv2.waitKey(0)\n",
    "cv2.destroyAllWindows()"
   ]
  },
  {
   "cell_type": "code",
   "execution_count": null,
   "id": "7dd7e968",
   "metadata": {},
   "outputs": [],
   "source": []
  }
 ],
 "metadata": {
  "kernelspec": {
   "display_name": "Python 3 (ipykernel)",
   "language": "python",
   "name": "python3"
  },
  "language_info": {
   "codemirror_mode": {
    "name": "ipython",
    "version": 3
   },
   "file_extension": ".py",
   "mimetype": "text/x-python",
   "name": "python",
   "nbconvert_exporter": "python",
   "pygments_lexer": "ipython3",
   "version": "3.10.9"
  }
 },
 "nbformat": 4,
 "nbformat_minor": 5
}
